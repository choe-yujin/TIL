{
 "cells": [
  {
   "cell_type": "code",
   "execution_count": 1,
   "id": "5b5b26ac",
   "metadata": {},
   "outputs": [],
   "source": [
    "from selenium import webdriver\n",
    "from selenium.webdriver.common.keys import Keys\n",
    "from selenium.webdriver.common.by import By"
   ]
  },
  {
   "cell_type": "code",
   "execution_count": 36,
   "id": "30e52da8",
   "metadata": {},
   "outputs": [
    {
     "data": {
      "text/plain": [
       "('test.png', <http.client.HTTPMessage at 0x1beb3421d30>)"
      ]
     },
     "execution_count": 36,
     "metadata": {},
     "output_type": "execute_result"
    }
   ],
   "source": [
    "# 그림 하나 다운\n",
    "driver = webdriver.Chrome()\n",
    "driver.get(\"https://www.google.co.kr/imghp?hl=ko&ogbl\")\n",
    "import time, urllib\n",
    "\n",
    "# assert \"Python\" in driver.title\n",
    "elem = driver.find_element(By.NAME, 'q')\n",
    "elem.clear()  #검색창의 내용 제거\n",
    "elem.send_keys('빅데이터')  # 검색어\n",
    "elem.send_keys(Keys.RETURN)  # 엔터\n",
    "driver.find_elements(By.CSS_SELECTOR, '.rg_i.Q4LuWd')[0].click() # 큰 그림 클릭\n",
    "time.sleep(2)  # 2초 쉬었다가 가져와(해킹하는 것처럼 보이지 않기 위해) parcing하지 않으면 base64의 raw데이터가 나온다\n",
    "src = driver.find_element(By.CSS_SELECTOR,'.n3VNCb').get_attribute(\"src\") # src 주소 가져오기\n",
    "# 이미지 다운로드\n",
    "urllib.request.urlretrieve(src, \"test.png\")\n",
    "#driver.close()"
   ]
  },
  {
   "cell_type": "code",
   "execution_count": 46,
   "id": "bdad4eda",
   "metadata": {},
   "outputs": [
    {
     "ename": "WebDriverException",
     "evalue": "Message: disconnected: unable to connect to renderer\n  (failed to check if window was closed: disconnected: unable to connect to renderer)\n  (Session info: chrome=109.0.5414.120)\nStacktrace:\nBacktrace:\n\t(No symbol) [0x00CD6643]\n\t(No symbol) [0x00C6BE21]\n\t(No symbol) [0x00B6DA9D]\n\t(No symbol) [0x00B5CCD8]\n\t(No symbol) [0x00B4D2B4]\n\t(No symbol) [0x00B4E3DE]\n\t(No symbol) [0x00BC94D5]\n\t(No symbol) [0x00BBFD43]\n\t(No symbol) [0x00B949C1]\n\t(No symbol) [0x00B95E5D]\n\tGetHandleVerifier [0x00F4A142+2497106]\n\tGetHandleVerifier [0x00F785D3+2686691]\n\tGetHandleVerifier [0x00F7BB9C+2700460]\n\tGetHandleVerifier [0x00D83B10+635936]\n\t(No symbol) [0x00C74A1F]\n\t(No symbol) [0x00C7A418]\n\t(No symbol) [0x00C7A505]\n\t(No symbol) [0x00C8508B]\n\tBaseThreadInitThunk [0x759000F9+25]\n\tRtlGetAppContainerNamedObjectPath [0x77A27BBE+286]\n\tRtlGetAppContainerNamedObjectPath [0x77A27B8E+238]\n",
     "output_type": "error",
     "traceback": [
      "\u001b[1;31m---------------------------------------------------------------------------\u001b[0m",
      "\u001b[1;31mWebDriverException\u001b[0m                        Traceback (most recent call last)",
      "\u001b[1;32m~\\AppData\\Local\\Temp\\ipykernel_12156\\4153431543.py\u001b[0m in \u001b[0;36m<module>\u001b[1;34m\u001b[0m\n\u001b[0;32m     45\u001b[0m         \u001b[1;32mpass\u001b[0m\u001b[1;33m\u001b[0m\u001b[1;33m\u001b[0m\u001b[0m\n\u001b[0;32m     46\u001b[0m \u001b[1;33m\u001b[0m\u001b[0m\n\u001b[1;32m---> 47\u001b[1;33m \u001b[0mdriver\u001b[0m\u001b[1;33m.\u001b[0m\u001b[0mclose\u001b[0m\u001b[1;33m(\u001b[0m\u001b[1;33m)\u001b[0m\u001b[1;33m\u001b[0m\u001b[1;33m\u001b[0m\u001b[0m\n\u001b[0m",
      "\u001b[1;32m~\\AppData\\Roaming\\Python\\Python39\\site-packages\\selenium\\webdriver\\remote\\webdriver.py\u001b[0m in \u001b[0;36mclose\u001b[1;34m(self)\u001b[0m\n\u001b[0;32m    549\u001b[0m                 \u001b[0mdriver\u001b[0m\u001b[1;33m.\u001b[0m\u001b[0mclose\u001b[0m\u001b[1;33m(\u001b[0m\u001b[1;33m)\u001b[0m\u001b[1;33m\u001b[0m\u001b[1;33m\u001b[0m\u001b[0m\n\u001b[0;32m    550\u001b[0m         \"\"\"\n\u001b[1;32m--> 551\u001b[1;33m         \u001b[0mself\u001b[0m\u001b[1;33m.\u001b[0m\u001b[0mexecute\u001b[0m\u001b[1;33m(\u001b[0m\u001b[0mCommand\u001b[0m\u001b[1;33m.\u001b[0m\u001b[0mCLOSE\u001b[0m\u001b[1;33m)\u001b[0m\u001b[1;33m\u001b[0m\u001b[1;33m\u001b[0m\u001b[0m\n\u001b[0m\u001b[0;32m    552\u001b[0m \u001b[1;33m\u001b[0m\u001b[0m\n\u001b[0;32m    553\u001b[0m     \u001b[1;32mdef\u001b[0m \u001b[0mquit\u001b[0m\u001b[1;33m(\u001b[0m\u001b[0mself\u001b[0m\u001b[1;33m)\u001b[0m \u001b[1;33m->\u001b[0m \u001b[1;32mNone\u001b[0m\u001b[1;33m:\u001b[0m\u001b[1;33m\u001b[0m\u001b[1;33m\u001b[0m\u001b[0m\n",
      "\u001b[1;32m~\\AppData\\Roaming\\Python\\Python39\\site-packages\\selenium\\webdriver\\remote\\webdriver.py\u001b[0m in \u001b[0;36mexecute\u001b[1;34m(self, driver_command, params)\u001b[0m\n\u001b[0;32m    438\u001b[0m         \u001b[0mresponse\u001b[0m \u001b[1;33m=\u001b[0m \u001b[0mself\u001b[0m\u001b[1;33m.\u001b[0m\u001b[0mcommand_executor\u001b[0m\u001b[1;33m.\u001b[0m\u001b[0mexecute\u001b[0m\u001b[1;33m(\u001b[0m\u001b[0mdriver_command\u001b[0m\u001b[1;33m,\u001b[0m \u001b[0mparams\u001b[0m\u001b[1;33m)\u001b[0m\u001b[1;33m\u001b[0m\u001b[1;33m\u001b[0m\u001b[0m\n\u001b[0;32m    439\u001b[0m         \u001b[1;32mif\u001b[0m \u001b[0mresponse\u001b[0m\u001b[1;33m:\u001b[0m\u001b[1;33m\u001b[0m\u001b[1;33m\u001b[0m\u001b[0m\n\u001b[1;32m--> 440\u001b[1;33m             \u001b[0mself\u001b[0m\u001b[1;33m.\u001b[0m\u001b[0merror_handler\u001b[0m\u001b[1;33m.\u001b[0m\u001b[0mcheck_response\u001b[0m\u001b[1;33m(\u001b[0m\u001b[0mresponse\u001b[0m\u001b[1;33m)\u001b[0m\u001b[1;33m\u001b[0m\u001b[1;33m\u001b[0m\u001b[0m\n\u001b[0m\u001b[0;32m    441\u001b[0m             \u001b[0mresponse\u001b[0m\u001b[1;33m[\u001b[0m\u001b[1;34m\"value\"\u001b[0m\u001b[1;33m]\u001b[0m \u001b[1;33m=\u001b[0m \u001b[0mself\u001b[0m\u001b[1;33m.\u001b[0m\u001b[0m_unwrap_value\u001b[0m\u001b[1;33m(\u001b[0m\u001b[0mresponse\u001b[0m\u001b[1;33m.\u001b[0m\u001b[0mget\u001b[0m\u001b[1;33m(\u001b[0m\u001b[1;34m\"value\"\u001b[0m\u001b[1;33m,\u001b[0m \u001b[1;32mNone\u001b[0m\u001b[1;33m)\u001b[0m\u001b[1;33m)\u001b[0m\u001b[1;33m\u001b[0m\u001b[1;33m\u001b[0m\u001b[0m\n\u001b[0;32m    442\u001b[0m             \u001b[1;32mreturn\u001b[0m \u001b[0mresponse\u001b[0m\u001b[1;33m\u001b[0m\u001b[1;33m\u001b[0m\u001b[0m\n",
      "\u001b[1;32m~\\AppData\\Roaming\\Python\\Python39\\site-packages\\selenium\\webdriver\\remote\\errorhandler.py\u001b[0m in \u001b[0;36mcheck_response\u001b[1;34m(self, response)\u001b[0m\n\u001b[0;32m    243\u001b[0m                 \u001b[0malert_text\u001b[0m \u001b[1;33m=\u001b[0m \u001b[0mvalue\u001b[0m\u001b[1;33m[\u001b[0m\u001b[1;34m\"alert\"\u001b[0m\u001b[1;33m]\u001b[0m\u001b[1;33m.\u001b[0m\u001b[0mget\u001b[0m\u001b[1;33m(\u001b[0m\u001b[1;34m\"text\"\u001b[0m\u001b[1;33m)\u001b[0m\u001b[1;33m\u001b[0m\u001b[1;33m\u001b[0m\u001b[0m\n\u001b[0;32m    244\u001b[0m             \u001b[1;32mraise\u001b[0m \u001b[0mexception_class\u001b[0m\u001b[1;33m(\u001b[0m\u001b[0mmessage\u001b[0m\u001b[1;33m,\u001b[0m \u001b[0mscreen\u001b[0m\u001b[1;33m,\u001b[0m \u001b[0mstacktrace\u001b[0m\u001b[1;33m,\u001b[0m \u001b[0malert_text\u001b[0m\u001b[1;33m)\u001b[0m  \u001b[1;31m# type: ignore[call-arg]  # mypy is not smart enough here\u001b[0m\u001b[1;33m\u001b[0m\u001b[1;33m\u001b[0m\u001b[0m\n\u001b[1;32m--> 245\u001b[1;33m         \u001b[1;32mraise\u001b[0m \u001b[0mexception_class\u001b[0m\u001b[1;33m(\u001b[0m\u001b[0mmessage\u001b[0m\u001b[1;33m,\u001b[0m \u001b[0mscreen\u001b[0m\u001b[1;33m,\u001b[0m \u001b[0mstacktrace\u001b[0m\u001b[1;33m)\u001b[0m\u001b[1;33m\u001b[0m\u001b[1;33m\u001b[0m\u001b[0m\n\u001b[0m",
      "\u001b[1;31mWebDriverException\u001b[0m: Message: disconnected: unable to connect to renderer\n  (failed to check if window was closed: disconnected: unable to connect to renderer)\n  (Session info: chrome=109.0.5414.120)\nStacktrace:\nBacktrace:\n\t(No symbol) [0x00CD6643]\n\t(No symbol) [0x00C6BE21]\n\t(No symbol) [0x00B6DA9D]\n\t(No symbol) [0x00B5CCD8]\n\t(No symbol) [0x00B4D2B4]\n\t(No symbol) [0x00B4E3DE]\n\t(No symbol) [0x00BC94D5]\n\t(No symbol) [0x00BBFD43]\n\t(No symbol) [0x00B949C1]\n\t(No symbol) [0x00B95E5D]\n\tGetHandleVerifier [0x00F4A142+2497106]\n\tGetHandleVerifier [0x00F785D3+2686691]\n\tGetHandleVerifier [0x00F7BB9C+2700460]\n\tGetHandleVerifier [0x00D83B10+635936]\n\t(No symbol) [0x00C74A1F]\n\t(No symbol) [0x00C7A418]\n\t(No symbol) [0x00C7A505]\n\t(No symbol) [0x00C8508B]\n\tBaseThreadInitThunk [0x759000F9+25]\n\tRtlGetAppContainerNamedObjectPath [0x77A27BBE+286]\n\tRtlGetAppContainerNamedObjectPath [0x77A27B8E+238]\n"
     ]
    }
   ],
   "source": [
    "driver = webdriver.Chrome()  # 내 위치값에 있는 chromedriver.exe 가져옴\n",
    "driver.get(\"https://www.google.co.kr/imghp?hl=ko&ogbl\")\n",
    "import time, urllib\n",
    "\n",
    "# assert \"Python\" in driver.title\n",
    "elem = driver.find_element(By.NAME, 'q')\n",
    "elem.clear()  #검색창의 내용 제거\n",
    "elem.send_keys('긴물찻집')  # 검색어\n",
    "elem.send_keys(Keys.RETURN)  # 엔터\n",
    "\n",
    "# 더이상 표시할 페이지가 없을 때까지 스크롤바 내려 로딩해놓기\n",
    "SCROLL_PAUSE_TIME = 0.5\n",
    "\n",
    "# Get scroll height\n",
    "last_height = driver.execute_script(\"return document.body.scrollHeight\")  # 자바스크립트 실행해서 스크롤 last_height 저장해\n",
    "\n",
    "while True:\n",
    "    # Scroll down to bottom\n",
    "    driver.execute_script(\"window.scrollTo(0, document.body.scrollHeight);\") # 0에서 저장해둔 last_height까지\n",
    "\n",
    "    # Wait to load page\n",
    "    time.sleep(SCROLL_PAUSE_TIME)\n",
    "\n",
    "    # Calculate new scroll height and compare with last scroll height\n",
    "    new_height = driver.execute_script(\"return document.body.scrollHeight\")  \n",
    "    if new_height == last_height:\n",
    "        try:\n",
    "            driver.find_element(By.CSS_SELECTOR, '.mye4qd').click() # 결과 더보기 클릭\n",
    "        except: \n",
    "            break\n",
    "    last_height = new_height\n",
    "    \n",
    "\n",
    "imgs = driver.find_elements(By.CSS_SELECTOR, '.rg_i.Q4LuWd')\n",
    "cnt = 0\n",
    "for img in imgs:\n",
    "    try:\n",
    "        img.click()    \n",
    "        time.sleep(2)  # 2초 쉬었다가 가져와(해킹하는 것처럼 보이지 않기 위해) parcing하지 않으면 base64의 raw데이터가 나온다\n",
    "        src = driver.find_element(By.CSS_SELECTOR,'.n3VNCb').get_attribute(\"src\") # src 주소 가져오기\n",
    "        # 이미지 다운로드\n",
    "        urllib.request.urlretrieve(src, f'test{str(cnt)}.png')\n",
    "        cnt += 1\n",
    "    except:\n",
    "        pass\n",
    "    \n",
    "driver.close()"
   ]
  }
 ],
 "metadata": {
  "kernelspec": {
   "display_name": "Python 3 (ipykernel)",
   "language": "python",
   "name": "python3"
  },
  "language_info": {
   "codemirror_mode": {
    "name": "ipython",
    "version": 3
   },
   "file_extension": ".py",
   "mimetype": "text/x-python",
   "name": "python",
   "nbconvert_exporter": "python",
   "pygments_lexer": "ipython3",
   "version": "3.9.13"
  }
 },
 "nbformat": 4,
 "nbformat_minor": 5
}
