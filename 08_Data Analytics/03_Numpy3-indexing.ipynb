{
 "cells": [
  {
   "cell_type": "markdown",
   "id": "5ec8a718",
   "metadata": {},
   "source": [
    "# 넘파이의 ndarray의 데이터 세트 선택하기 - 인덱싱(Indexing)\n",
    "*넘파이에서 ndarray내의 일부 데이터 셋이나 특정 데이터만을 선택할 수 있도록 인덱싱\n",
    "- 1. 특정한 데이터만 추출\n",
    "\n",
    "- 2. 슬라이싱(Slicing)\n",
    "\n",
    "- 3. 팬시 인덱싱(Fancy Indexing)\n",
    "\n",
    "- 4. 불리언 인덱싱(Boolean Indexing)\n",
    "\n",
    "\n",
    "넘파이는 열을 기준으로 본다. (텐서플로우는 행,열...)"
   ]
  },
  {
   "cell_type": "code",
   "execution_count": 1,
   "id": "9bdf309f",
   "metadata": {},
   "outputs": [],
   "source": [
    "import numpy as np"
   ]
  },
  {
   "cell_type": "markdown",
   "id": "195a847b",
   "metadata": {},
   "source": [
    "## 1. 특정한 데이터만 추출"
   ]
  },
  {
   "cell_type": "code",
   "execution_count": 10,
   "id": "ddbc91d5",
   "metadata": {},
   "outputs": [
    {
     "name": "stdout",
     "output_type": "stream",
     "text": [
      "[1 2 3 4 5 6 7 8 9]\n",
      "value:9, type:<class 'numpy.int32'>\n"
     ]
    }
   ],
   "source": [
    "# 1~9까지 1차원 ndarray생성 - np.arange\n",
    "array1 = np.arange(1,10)  # float으로 하려면 dtype='float64'\n",
    "print(array1)\n",
    "value = array1[-1]\n",
    "print(f'value:{value}, type:{type(value)}')"
   ]
  },
  {
   "cell_type": "code",
   "execution_count": 20,
   "id": "09f5329c",
   "metadata": {},
   "outputs": [
    {
     "name": "stdout",
     "output_type": "stream",
     "text": [
      "[[1 2 3]\n",
      " [4 5 6]\n",
      " [7 8 9]]\n"
     ]
    }
   ],
   "source": [
    "# array1을 2차원으로 변형\n",
    "array1d = array1.copy()\n",
    "array2d = array1d.reshape(3,3)\n",
    "print(array2d)"
   ]
  },
  {
   "cell_type": "code",
   "execution_count": 24,
   "id": "ca33265a",
   "metadata": {},
   "outputs": [
    {
     "data": {
      "text/plain": [
       "(1, 2, 4, 9)"
      ]
     },
     "execution_count": 24,
     "metadata": {},
     "output_type": "execute_result"
    }
   ],
   "source": [
    "array2d[0][0],array2d[0][1],array2d[1][0],array2d[2][2]"
   ]
  },
  {
   "cell_type": "code",
   "execution_count": 26,
   "id": "a6410fb8",
   "metadata": {},
   "outputs": [
    {
     "data": {
      "text/plain": [
       "(1, 2, 4, 9)"
      ]
     },
     "execution_count": 26,
     "metadata": {},
     "output_type": "execute_result"
    }
   ],
   "source": [
    "array2d[0,0],array2d[0,1],array2d[1,0],array2d[-1,-1]"
   ]
  },
  {
   "cell_type": "markdown",
   "id": "ef18689b",
   "metadata": {},
   "source": [
    "## 2. 슬라이싱(Slicing)¶"
   ]
  },
  {
   "cell_type": "code",
   "execution_count": 46,
   "id": "91a23edf",
   "metadata": {
    "scrolled": true
   },
   "outputs": [
    {
     "name": "stdout",
     "output_type": "stream",
     "text": [
      "[[1 2 3]\n",
      " [4 5 6]\n",
      " [7 8 9]]\n",
      "\n",
      "array2d[0:3, 0:2]:\n",
      " [[1 2]\n",
      " [4 5]\n",
      " [7 8]]\n",
      "\n",
      "array2d[0:2, 0:2]:\n",
      " [[1 2]\n",
      " [4 5]]\n",
      "\n",
      "array2d[1:, 0:3]:\n",
      " [[4 5 6]\n",
      " [7 8 9]]\n",
      "\n",
      "array2d[1:, :]:\n",
      " [[4 5 6]\n",
      " [7 8 9]]\n"
     ]
    }
   ],
   "source": [
    "print(array2d)\n",
    "print(f'\\narray2d[0:3, 0:2]:\\n',array2d[0:3, 0:2])\n",
    "print(f'\\narray2d[0:2, 0:2]:\\n',array2d[0:2, 0:2])\n",
    "print(f'\\narray2d[1:, 0:3]:\\n',array2d[1:, 0:3])\n",
    "print(f'\\narray2d[1:, :]:\\n',array2d[1:, :])"
   ]
  },
  {
   "cell_type": "code",
   "execution_count": 59,
   "id": "95b060d0",
   "metadata": {},
   "outputs": [
    {
     "name": "stdout",
     "output_type": "stream",
     "text": [
      "array2d(:2, 0):\n",
      " [1 4]\n",
      "array2d(:2, 0:1):\n",
      " [[1]\n",
      " [4]]\n"
     ]
    }
   ],
   "source": [
    "# question 1\n",
    "print(f'array2d(:2, 0):\\n', array2d[:2, 0])\n",
    "print(f'array2d(:2, 0:1):\\n', array2d[:2, 0:1])"
   ]
  },
  {
   "cell_type": "markdown",
   "id": "a6ac8848",
   "metadata": {},
   "source": [
    "## 3. 팬시 인덱싱(Fancy Indexing)"
   ]
  },
  {
   "cell_type": "code",
   "execution_count": 75,
   "id": "ccf83414",
   "metadata": {},
   "outputs": [
    {
     "name": "stdout",
     "output_type": "stream",
     "text": [
      "[[1 2 3]\n",
      " [4 5 6]\n",
      " [7 8 9]]\n",
      "[3 6]\n",
      "[[3]\n",
      " [9]]\n",
      "[[3]\n",
      " [6]]\n"
     ]
    }
   ],
   "source": [
    "print(array2d)\n",
    "# 3과 6을 1차원으로 가져오자\n",
    "print(array2d[[0,1],2])\n",
    "print(array2d[[0,2],2:])\n",
    "print(array2d[0:2,2:])"
   ]
  }
 ],
 "metadata": {
  "kernelspec": {
   "display_name": "Python 3 (ipykernel)",
   "language": "python",
   "name": "python3"
  },
  "language_info": {
   "codemirror_mode": {
    "name": "ipython",
    "version": 3
   },
   "file_extension": ".py",
   "mimetype": "text/x-python",
   "name": "python",
   "nbconvert_exporter": "python",
   "pygments_lexer": "ipython3",
   "version": "3.9.13"
  }
 },
 "nbformat": 4,
 "nbformat_minor": 5
}
