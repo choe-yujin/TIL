{
 "cells": [
  {
   "cell_type": "markdown",
   "id": "939a8975",
   "metadata": {},
   "source": [
    "# 넘파이 : ML 주요 알고리즘 - 선형대수와 통계에 기반\n",
    "- Numpy는 Numerical Python을 의미하며 파이썬에서 선형대수 기반의 프로그램을 쉽게 만들 수 있도록 지원하는 대표 패키지\n",
    "- 루프를 사용치 않고 대량 데이터의 배열 연산이 가능\n",
    "- C/C++과 같은 저수준 언어 기반의 호환 API 제공"
   ]
  },
  {
   "cell_type": "code",
   "execution_count": 2,
   "id": "a2fae0cc",
   "metadata": {},
   "outputs": [
    {
     "name": "stdout",
     "output_type": "stream",
     "text": [
      "array_l1 type : <class 'numpy.ndarray'>\n",
      "array_l1 shape : (3,)\n"
     ]
    }
   ],
   "source": [
    "import numpy as np\n",
    "\n",
    "l1 = [1,2,3]\n",
    "\n",
    "# array 생성\n",
    "array_l1 = np.array(l1)\n",
    "\n",
    "# type과 shape을 확인한다.\n",
    "print(f'array_l1 type : {type(array_l1)}')\n",
    "print(f'array_l1 shape : {array_l1.shape}')"
   ]
  },
  {
   "cell_type": "code",
   "execution_count": 3,
   "id": "24a6f26b",
   "metadata": {},
   "outputs": [
    {
     "name": "stdout",
     "output_type": "stream",
     "text": [
      "array_l2 type : <class 'numpy.ndarray'>\n",
      "array_l2 shape : (2, 3)\n"
     ]
    }
   ],
   "source": [
    "# 차원 복습 - 2차원 생성\n",
    "l2 = [[11,22,33],[44,55,66]] # 할당, 선언\n",
    "\n",
    "# array 생성\n",
    "array_l2 = np.array(l2)\n",
    "\n",
    "# type과 shape을 확인한다.\n",
    "print(f'array_l2 type : {type(array_l2)}')\n",
    "print(f'array_l2 shape : {array_l2.shape}')"
   ]
  },
  {
   "cell_type": "code",
   "execution_count": 4,
   "id": "b2839fc8",
   "metadata": {},
   "outputs": [
    {
     "name": "stdout",
     "output_type": "stream",
     "text": [
      "array_l3 type : <class 'numpy.ndarray'>\n",
      "array_l3 shape : (1, 1, 3)\n"
     ]
    }
   ],
   "source": [
    "# 차원 복습 - 3차원 생성\n",
    "l3 = [[[11,22,33]]] # 할당, 선언\n",
    "\n",
    "# array 생성\n",
    "array_l3 = np.array(l3)\n",
    "\n",
    "# type과 shape을 확인한다.\n",
    "print(f'array_l3 type : {type(array_l3)}')\n",
    "print(f'array_l3 shape : {array_l3.shape}')"
   ]
  },
  {
   "cell_type": "markdown",
   "id": "c187bf44",
   "metadata": {},
   "source": [
    "# ndarray를 편리하게 생성"
   ]
  },
  {
   "cell_type": "markdown",
   "id": "eb37d53b",
   "metadata": {},
   "source": [
    "**arange 활용**"
   ]
  },
  {
   "cell_type": "code",
   "execution_count": 5,
   "id": "a54dec50",
   "metadata": {},
   "outputs": [
    {
     "data": {
      "text/plain": [
       "array([3, 4, 5, 6, 7, 8, 9])"
      ]
     },
     "execution_count": 5,
     "metadata": {},
     "output_type": "execute_result"
    }
   ],
   "source": [
    "# 기본설정(default)대로 활용\n",
    "sq_array = np.arange(10) # n-1까지 들어가니까 총 9개가 생성된다.\n",
    "sq_array\n",
    "\n",
    "# start 파라미터, stop 파라미터를 활용\n",
    "sq_array2 = np.arange(3,10)\n",
    "sq_array2"
   ]
  },
  {
   "cell_type": "code",
   "execution_count": 8,
   "id": "c7962031",
   "metadata": {},
   "outputs": [
    {
     "name": "stdout",
     "output_type": "stream",
     "text": [
      "int32 (10,)\n"
     ]
    },
    {
     "data": {
      "text/plain": [
       "array([0, 1, 2, 3, 4, 5, 6, 7, 8, 9])"
      ]
     },
     "execution_count": 8,
     "metadata": {},
     "output_type": "execute_result"
    }
   ],
   "source": [
    "print(sq_array.dtype, sq_array.shape)\n",
    "sq_array"
   ]
  },
  {
   "cell_type": "markdown",
   "id": "473c6c8c",
   "metadata": {},
   "source": [
    "**zeros 활용**"
   ]
  },
  {
   "cell_type": "code",
   "execution_count": 10,
   "id": "e9c8b313",
   "metadata": {},
   "outputs": [
    {
     "name": "stdout",
     "output_type": "stream",
     "text": [
      "int32 (3, 2)\n"
     ]
    },
    {
     "data": {
      "text/plain": [
       "array([[0, 0],\n",
       "       [0, 0],\n",
       "       [0, 0]])"
      ]
     },
     "execution_count": 10,
     "metadata": {},
     "output_type": "execute_result"
    }
   ],
   "source": [
    "zero_array = np.zeros((3,2), dtype='int32')\n",
    "print(zero_array.dtype, zero_array.shape)\n",
    "zero_array"
   ]
  },
  {
   "cell_type": "markdown",
   "id": "0cdb5494",
   "metadata": {},
   "source": [
    "**ones 활용**"
   ]
  },
  {
   "cell_type": "code",
   "execution_count": 11,
   "id": "a8a8332b",
   "metadata": {},
   "outputs": [
    {
     "name": "stdout",
     "output_type": "stream",
     "text": [
      "int32 (3, 2)\n"
     ]
    },
    {
     "data": {
      "text/plain": [
       "array([[1, 1],\n",
       "       [1, 1],\n",
       "       [1, 1]])"
      ]
     },
     "execution_count": 11,
     "metadata": {},
     "output_type": "execute_result"
    }
   ],
   "source": [
    "ones_array = np.ones((3,2), dtype='int32')\n",
    "print(ones_array.dtype, ones_array.shape)\n",
    "ones_array"
   ]
  },
  {
   "cell_type": "markdown",
   "id": "d44a19f4",
   "metadata": {},
   "source": [
    "## reshape을 활용한 차원 호환"
   ]
  },
  {
   "cell_type": "code",
   "execution_count": 23,
   "id": "27df2b31",
   "metadata": {},
   "outputs": [
    {
     "data": {
      "text/plain": [
       "array([ 1,  2,  3,  4,  5,  6,  7,  8,  9, 10])"
      ]
     },
     "execution_count": 23,
     "metadata": {},
     "output_type": "execute_result"
    }
   ],
   "source": [
    "# 1차원\n",
    "sqr_array = np.arange(1,11)\n",
    "sqr_array"
   ]
  },
  {
   "cell_type": "code",
   "execution_count": 31,
   "id": "c05a9e6e",
   "metadata": {},
   "outputs": [
    {
     "data": {
      "text/plain": [
       "array([[ 1,  2],\n",
       "       [ 3,  4],\n",
       "       [ 5,  6],\n",
       "       [ 7,  8],\n",
       "       [ 9, 10]])"
      ]
     },
     "execution_count": 31,
     "metadata": {},
     "output_type": "execute_result"
    }
   ],
   "source": [
    "# 2차원\n",
    "sqr_array2d = sqr_array.reshape(2,5)\n",
    "sqr_array2d.reshape(5,-1)  # 왜 -1?"
   ]
  },
  {
   "cell_type": "code",
   "execution_count": 33,
   "id": "b17df198",
   "metadata": {},
   "outputs": [],
   "source": [
    "# 3차원\n",
    "sqr_array3 = np.arange(1, 9) # array([1, 2, 3, 4, 5, 6, 7, 8])\n",
    "sqr_array3d = sqr_array3.reshape(2,2,2)"
   ]
  },
  {
   "cell_type": "code",
   "execution_count": 41,
   "id": "b05914d9",
   "metadata": {},
   "outputs": [
    {
     "data": {
      "text/plain": [
       "[[1, 2, 3, 4], [5, 6, 7, 8]]"
      ]
     },
     "execution_count": 41,
     "metadata": {},
     "output_type": "execute_result"
    }
   ],
   "source": [
    "# sqr_array3d -> sqr_array1d\n",
    "sqr_array2d = sqr_array3d.reshape(2,-1)  # 2,4\n",
    "sqr_l2 = sqr_array2d.tolist()  # list로 형 변환\n",
    "sqr_l2"
   ]
  },
  {
   "cell_type": "code",
   "execution_count": 42,
   "id": "1513f687",
   "metadata": {},
   "outputs": [],
   "source": [
    "# end of file"
   ]
  }
 ],
 "metadata": {
  "kernelspec": {
   "display_name": "Python 3 (ipykernel)",
   "language": "python",
   "name": "python3"
  },
  "language_info": {
   "codemirror_mode": {
    "name": "ipython",
    "version": 3
   },
   "file_extension": ".py",
   "mimetype": "text/x-python",
   "name": "python",
   "nbconvert_exporter": "python",
   "pygments_lexer": "ipython3",
   "version": "3.10.9"
  }
 },
 "nbformat": 4,
 "nbformat_minor": 5
}
