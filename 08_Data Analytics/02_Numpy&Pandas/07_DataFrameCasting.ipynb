{
 "cells": [
  {
   "attachments": {},
   "cell_type": "markdown",
   "id": "10bf99d8",
   "metadata": {},
   "source": [
    "# DataFrame과 리스트, 딕셔너리, 넘파이 ndarray 상호변환\n"
   ]
  },
  {
   "cell_type": "code",
   "execution_count": 1,
   "id": "de792115",
   "metadata": {},
   "outputs": [],
   "source": [
    "import numpy as np\n",
    "import pandas as pd"
   ]
  },
  {
   "cell_type": "markdown",
   "id": "5eccee2e",
   "metadata": {},
   "source": [
    "## df-생성방법"
   ]
  },
  {
   "cell_type": "code",
   "execution_count": 3,
   "id": "4be23827",
   "metadata": {},
   "outputs": [
    {
     "name": "stdout",
     "output_type": "stream",
     "text": [
      "array2d shape:\n",
      " (2, 3)\n",
      "2차원 리스트로 만든 df:\n",
      "    col1  col2  col3\n",
      "0     1     2     3\n",
      "1    11    22    33\n",
      "2차원 ndarray로 만든 df:\n",
      "    col1  col2  col3\n",
      "0     1     2     3\n",
      "1    11    22    33\n"
     ]
    }
   ],
   "source": [
    "# 3개의 컬럼으로 이름을 짓는다.\n",
    "col_name1 = ['col1','col2','col3']\n",
    "\n",
    "# (2,3)형태의 list를 생성 -> ndarray로 변형 -> DataFrame으로 변환..\n",
    "l2 = [[1,2,3],\n",
    "     [11,22,33]]\n",
    "\n",
    "array2d = np.array(l2)\n",
    "print('array2d shape:\\n', array2d.shape)\n",
    "df_l2 = pd.DataFrame(l2, columns=col_name1) # 2차원 데이터\n",
    "print('2차원 리스트로 만든 df:\\n', df_l2)\n",
    "df_array2d = pd.DataFrame(array2d, columns=col_name1)\n",
    "print('2차원 ndarray로 만든 df:\\n', df_array2d)"
   ]
  },
  {
   "cell_type": "code",
   "execution_count": 4,
   "id": "38dc3e11",
   "metadata": {},
   "outputs": [
    {
     "data": {
      "text/html": [
       "<div>\n",
       "<style scoped>\n",
       "    .dataframe tbody tr th:only-of-type {\n",
       "        vertical-align: middle;\n",
       "    }\n",
       "\n",
       "    .dataframe tbody tr th {\n",
       "        vertical-align: top;\n",
       "    }\n",
       "\n",
       "    .dataframe thead th {\n",
       "        text-align: right;\n",
       "    }\n",
       "</style>\n",
       "<table border=\"1\" class=\"dataframe\">\n",
       "  <thead>\n",
       "    <tr style=\"text-align: right;\">\n",
       "      <th></th>\n",
       "      <th>col1</th>\n",
       "      <th>col2</th>\n",
       "      <th>col3</th>\n",
       "    </tr>\n",
       "  </thead>\n",
       "  <tbody>\n",
       "    <tr>\n",
       "      <th>0</th>\n",
       "      <td>1</td>\n",
       "      <td>2</td>\n",
       "      <td>3</td>\n",
       "    </tr>\n",
       "    <tr>\n",
       "      <th>1</th>\n",
       "      <td>11</td>\n",
       "      <td>22</td>\n",
       "      <td>33</td>\n",
       "    </tr>\n",
       "  </tbody>\n",
       "</table>\n",
       "</div>"
      ],
      "text/plain": [
       "   col1  col2  col3\n",
       "0     1     2     3\n",
       "1    11    22    33"
      ]
     },
     "execution_count": 4,
     "metadata": {},
     "output_type": "execute_result"
    }
   ],
   "source": [
    "# dict -> dataframe 생성\n",
    "dict123 = {'col1':[1,11],\n",
    "          'col2':[2,22],\n",
    "           'col3':[3,33]}\n",
    "df_dict123 = pd.DataFrame(dict123)\n",
    "df_dict123"
   ]
  },
  {
   "cell_type": "markdown",
   "id": "524ca5fd",
   "metadata": {},
   "source": [
    "## df를 다른 자료형으로 변환"
   ]
  },
  {
   "cell_type": "code",
   "execution_count": 7,
   "id": "df0e5e87",
   "metadata": {},
   "outputs": [
    {
     "name": "stdout",
     "output_type": "stream",
     "text": [
      "array3_dic.values의 타입: <class 'numpy.ndarray'>\n",
      "array3_dic의 shape: (2, 3)\n"
     ]
    }
   ],
   "source": [
    "# 1. df.values를 통해 -> ndarray로 변환\n",
    "array3_dic = df_dict123.values\n",
    "print('array3_dic.values의 타입:', type(array3_dic))\n",
    "print('array3_dic의 shape:', array3_dic.shape)"
   ]
  },
  {
   "cell_type": "code",
   "execution_count": 8,
   "id": "0e82f340",
   "metadata": {},
   "outputs": [
    {
     "data": {
      "text/plain": [
       "[[1, 2, 3], [11, 22, 33]]"
      ]
     },
     "execution_count": 8,
     "metadata": {},
     "output_type": "execute_result"
    }
   ],
   "source": [
    "# 2 df.values -> ndarray를 -> list로 변환\n",
    "df_dict123.values.tolist()"
   ]
  },
  {
   "cell_type": "code",
   "execution_count": 12,
   "id": "85d2cb27",
   "metadata": {},
   "outputs": [
    {
     "name": "stdout",
     "output_type": "stream",
     "text": [
      "df_dict.tolist()타입: <class 'list'>\n",
      "[[1, 2, 3], [11, 22, 33]]\n"
     ]
    }
   ],
   "source": [
    "# DataFrame을 리스트로 변환\n",
    "list3 = df_dict123.values.tolist()\n",
    "print('df_dict.tolist()타입:',type(list3))\n",
    "print(list3)"
   ]
  },
  {
   "cell_type": "code",
   "execution_count": 10,
   "id": "64e739c0",
   "metadata": {},
   "outputs": [
    {
     "data": {
      "text/html": [
       "<div>\n",
       "<style scoped>\n",
       "    .dataframe tbody tr th:only-of-type {\n",
       "        vertical-align: middle;\n",
       "    }\n",
       "\n",
       "    .dataframe tbody tr th {\n",
       "        vertical-align: top;\n",
       "    }\n",
       "\n",
       "    .dataframe thead th {\n",
       "        text-align: right;\n",
       "    }\n",
       "</style>\n",
       "<table border=\"1\" class=\"dataframe\">\n",
       "  <thead>\n",
       "    <tr style=\"text-align: right;\">\n",
       "      <th></th>\n",
       "      <th>col1</th>\n",
       "      <th>col2</th>\n",
       "      <th>col3</th>\n",
       "    </tr>\n",
       "  </thead>\n",
       "  <tbody>\n",
       "    <tr>\n",
       "      <th>0</th>\n",
       "      <td>1</td>\n",
       "      <td>2</td>\n",
       "      <td>3</td>\n",
       "    </tr>\n",
       "    <tr>\n",
       "      <th>1</th>\n",
       "      <td>11</td>\n",
       "      <td>22</td>\n",
       "      <td>33</td>\n",
       "    </tr>\n",
       "  </tbody>\n",
       "</table>\n",
       "</div>"
      ],
      "text/plain": [
       "   col1  col2  col3\n",
       "0     1     2     3\n",
       "1    11    22    33"
      ]
     },
     "execution_count": 10,
     "metadata": {},
     "output_type": "execute_result"
    }
   ],
   "source": [
    "# 3 df.to_dict() -> dict로 변환\n",
    "df_dict123.to_dict('list')\n",
    "df_dict123"
   ]
  },
  {
   "cell_type": "code",
   "execution_count": 13,
   "id": "8ac5a898",
   "metadata": {},
   "outputs": [],
   "source": [
    "# end of file"
   ]
  }
 ],
 "metadata": {
  "kernelspec": {
   "display_name": "Python 3 (ipykernel)",
   "language": "python",
   "name": "python3"
  },
  "language_info": {
   "codemirror_mode": {
    "name": "ipython",
    "version": 3
   },
   "file_extension": ".py",
   "mimetype": "text/x-python",
   "name": "python",
   "nbconvert_exporter": "python",
   "pygments_lexer": "ipython3",
   "version": "3.9.13"
  }
 },
 "nbformat": 4,
 "nbformat_minor": 5
}
