{
 "cells": [
  {
   "cell_type": "code",
   "execution_count": 2,
   "id": "d85321e1",
   "metadata": {},
   "outputs": [],
   "source": [
    "# q1. jeju 데이터를 로드해보세요. 컬럼이 한글이므로 적절한 처리가 필요"
   ]
  },
  {
   "cell_type": "code",
   "execution_count": null,
   "id": "14636e67",
   "metadata": {},
   "outputs": [],
   "source": []
  },
  {
   "cell_type": "code",
   "execution_count": 3,
   "id": "e6c20170",
   "metadata": {},
   "outputs": [],
   "source": [
    "# q2. 데이터의 마지막 3개 행을 호출해보세요."
   ]
  },
  {
   "cell_type": "code",
   "execution_count": null,
   "id": "a61b5f3d",
   "metadata": {},
   "outputs": [],
   "source": []
  },
  {
   "cell_type": "code",
   "execution_count": 4,
   "id": "6e662c4f",
   "metadata": {},
   "outputs": [],
   "source": [
    "# q3. 범주형 변수를 가진 컬럼을 출력해보세요."
   ]
  },
  {
   "cell_type": "code",
   "execution_count": null,
   "id": "18e35338",
   "metadata": {},
   "outputs": [],
   "source": []
  },
  {
   "cell_type": "code",
   "execution_count": 5,
   "id": "a165906e",
   "metadata": {},
   "outputs": [],
   "source": [
    "# q4. 숫자형 변수를 가진 컬럼을 출력해보세요."
   ]
  },
  {
   "cell_type": "code",
   "execution_count": null,
   "id": "ed32cfe0",
   "metadata": {},
   "outputs": [],
   "source": []
  },
  {
   "cell_type": "code",
   "execution_count": 6,
   "id": "fd8ede68",
   "metadata": {},
   "outputs": [],
   "source": [
    "# q5. 각 컬럼들의 결측치 숫자들을 파악해보세요."
   ]
  },
  {
   "cell_type": "code",
   "execution_count": null,
   "id": "4f21bbfa",
   "metadata": {},
   "outputs": [],
   "source": []
  },
  {
   "cell_type": "code",
   "execution_count": 7,
   "id": "d2b8d076",
   "metadata": {},
   "outputs": [],
   "source": [
    "# q6. 각 컬럼의 데이터수, 데이터타입을 한 번에 확인해보세요."
   ]
  },
  {
   "cell_type": "code",
   "execution_count": null,
   "id": "8fcc3827",
   "metadata": {},
   "outputs": [],
   "source": []
  },
  {
   "cell_type": "code",
   "execution_count": 8,
   "id": "7461942a",
   "metadata": {},
   "outputs": [],
   "source": [
    "# q7. 거주인구, 근무인구와 방문인구, 총 유동인구로만 구성된 df를 만드세요."
   ]
  },
  {
   "cell_type": "code",
   "execution_count": null,
   "id": "6e3c943d",
   "metadata": {},
   "outputs": [],
   "source": []
  },
  {
   "cell_type": "code",
   "execution_count": null,
   "id": "ec641508",
   "metadata": {},
   "outputs": [],
   "source": [
    "# q8 위에서 생성된 df에 행을 추가해주세요\n",
    "# 추가 행값은 min값으로 해주세요."
   ]
  },
  {
   "cell_type": "code",
   "execution_count": null,
   "id": "350eb3ad",
   "metadata": {},
   "outputs": [],
   "source": []
  },
  {
   "cell_type": "code",
   "execution_count": 11,
   "id": "ed9d2d8d",
   "metadata": {},
   "outputs": [],
   "source": [
    "# q9. 총 유동인구 컬럼의 값들을 출력해보세요."
   ]
  },
  {
   "cell_type": "code",
   "execution_count": null,
   "id": "09c8f27c",
   "metadata": {},
   "outputs": [],
   "source": []
  },
  {
   "cell_type": "code",
   "execution_count": 10,
   "id": "e5ce411e",
   "metadata": {},
   "outputs": [],
   "source": [
    "# q10. 시도명의 유일값의 개수를 구해보세요."
   ]
  },
  {
   "cell_type": "code",
   "execution_count": null,
   "id": "30b8fd9f",
   "metadata": {},
   "outputs": [],
   "source": []
  }
 ],
 "metadata": {
  "kernelspec": {
   "display_name": "Python 3 (ipykernel)",
   "language": "python",
   "name": "python3"
  },
  "language_info": {
   "codemirror_mode": {
    "name": "ipython",
    "version": 3
   },
   "file_extension": ".py",
   "mimetype": "text/x-python",
   "name": "python",
   "nbconvert_exporter": "python",
   "pygments_lexer": "ipython3",
   "version": "3.9.13"
  }
 },
 "nbformat": 4,
 "nbformat_minor": 5
}
