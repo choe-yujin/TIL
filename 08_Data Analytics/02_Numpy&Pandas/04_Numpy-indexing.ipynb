{
 "cells": [
  {
   "cell_type": "markdown",
   "id": "36878487",
   "metadata": {},
   "source": [
    "# Boolean indexing"
   ]
  },
  {
   "cell_type": "code",
   "execution_count": 1,
   "id": "ecb3df20",
   "metadata": {},
   "outputs": [],
   "source": [
    "import numpy as np"
   ]
  },
  {
   "cell_type": "code",
   "execution_count": 19,
   "id": "5d562cf1",
   "metadata": {},
   "outputs": [
    {
     "name": "stdout",
     "output_type": "stream",
     "text": [
      "[1 2 3 4 5 6 7 8 9]\n",
      "[False False False False False  True  True  True  True]\n",
      "[array([False, False, False, False, False,  True,  True,  True,  True])]\n",
      "[6 7 8 9]\n"
     ]
    }
   ],
   "source": [
    "array1d = np.arange(start=1, stop=10)\n",
    "print(array1d)\n",
    "\n",
    "#boolean indexing\n",
    "print(array1d>5)\n",
    "print([array1d>5])\n",
    "print(array1d[array1d>5])  # True만 출력"
   ]
  },
  {
   "cell_type": "code",
   "execution_count": 11,
   "id": "d6939754",
   "metadata": {},
   "outputs": [
    {
     "name": "stdout",
     "output_type": "stream",
     "text": [
      "6 7 8 9 "
     ]
    }
   ],
   "source": [
    "for i in array1d:\n",
    "    if i>5:\n",
    "        print(i, end= ' ')\n",
    "    else:\n",
    "        pass"
   ]
  },
  {
   "cell_type": "code",
   "execution_count": 14,
   "id": "0f95162c",
   "metadata": {},
   "outputs": [
    {
     "data": {
      "text/plain": [
       "array([6, 7, 8, 9])"
      ]
     },
     "execution_count": 14,
     "metadata": {},
     "output_type": "execute_result"
    }
   ],
   "source": [
    "boolean_indexes = np.array([False, False, False, False, False,  True,  True,  True,  True])\n",
    "array1d[boolean_indexesexes]"
   ]
  },
  {
   "cell_type": "markdown",
   "id": "cf16ed44",
   "metadata": {},
   "source": [
    "## 행렬의 정렬 - sort()와 argsort()"
   ]
  },
  {
   "cell_type": "code",
   "execution_count": 20,
   "id": "a944a0bf",
   "metadata": {},
   "outputs": [
    {
     "name": "stdout",
     "output_type": "stream",
     "text": [
      "원본행렬: [3 1 9 5]\n"
     ]
    }
   ],
   "source": [
    "org_array = np.array([3,1,9,5])\n",
    "print('원본행렬:', org_array)"
   ]
  },
  {
   "cell_type": "code",
   "execution_count": 30,
   "id": "732f6c6e",
   "metadata": {},
   "outputs": [
    {
     "name": "stdout",
     "output_type": "stream",
     "text": [
      "np.sort()적용 후 원본행렬 [1 3 5 9]\n",
      "np.sort()적용 후 반환된 정렬행렬 [1 3 5 9]\n"
     ]
    }
   ],
   "source": [
    "# 1. np.sort(ndarray)로 정렬 / 원본은 변함 없음\n",
    "sort_array1 = np.sort(org_array)\n",
    "print('np.sort()적용 후 원본행렬', org_array)\n",
    "print('np.sort()적용 후 반환된 정렬행렬', sort_array1)"
   ]
  },
  {
   "cell_type": "code",
   "execution_count": 31,
   "id": "de57aea2",
   "metadata": {},
   "outputs": [
    {
     "name": "stdout",
     "output_type": "stream",
     "text": [
      "np.sort()적용 후 원본행렬 [1 3 5 9]\n",
      "np.sort()적용 후 반환된 정렬행렬 None\n"
     ]
    }
   ],
   "source": [
    "# 2. ndarray.sort()로 정렬 / 원본 변함. None반환\n",
    "sort_array2 = org_array.sort()\n",
    "print('np.sort()적용 후 원본행렬', org_array)\n",
    "print('np.sort()적용 후 반환된 정렬행렬', sort_array2)"
   ]
  },
  {
   "cell_type": "code",
   "execution_count": 33,
   "id": "ec0eaf55",
   "metadata": {},
   "outputs": [
    {
     "name": "stdout",
     "output_type": "stream",
     "text": [
      "내림차순 정렬 [9 5 3 1]\n"
     ]
    }
   ],
   "source": [
    "# 내림차순 정렬[::-1]\n",
    "sort_array1_desc = np.sort(org_array)[::-1]\n",
    "print('내림차순 정렬', sort_array1_desc)"
   ]
  },
  {
   "cell_type": "code",
   "execution_count": 34,
   "id": "14cea54f",
   "metadata": {},
   "outputs": [],
   "source": [
    "# end of file"
   ]
  }
 ],
 "metadata": {
  "kernelspec": {
   "display_name": "Python 3 (ipykernel)",
   "language": "python",
   "name": "python3"
  },
  "language_info": {
   "codemirror_mode": {
    "name": "ipython",
    "version": 3
   },
   "file_extension": ".py",
   "mimetype": "text/x-python",
   "name": "python",
   "nbconvert_exporter": "python",
   "pygments_lexer": "ipython3",
   "version": "3.10.9"
  }
 },
 "nbformat": 4,
 "nbformat_minor": 5
}
