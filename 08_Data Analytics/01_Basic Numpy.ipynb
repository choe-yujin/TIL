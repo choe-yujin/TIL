{
 "cells": [
  {
   "cell_type": "code",
   "execution_count": 4,
   "id": "597a0a6a",
   "metadata": {},
   "outputs": [
    {
     "name": "stdout",
     "output_type": "stream",
     "text": [
      "Requirement already satisfied: sklearn in c:\\users\\a\\appdata\\local\\programs\\python\\python310\\lib\\site-packages (0.0.post1)\n",
      "Note: you may need to restart the kernel to use updated packages.\n"
     ]
    }
   ],
   "source": [
    "pip install sklearn"
   ]
  },
  {
   "cell_type": "code",
   "execution_count": 5,
   "id": "68de00fe",
   "metadata": {},
   "outputs": [
    {
     "name": "stdout",
     "output_type": "stream",
     "text": [
      "Collecting numpyNote: you may need to restart the kernel to use updated packages.\n",
      "\n",
      "  Downloading numpy-1.24.1-cp310-cp310-win_amd64.whl (14.8 MB)\n",
      "     ---------------------------------------- 14.8/14.8 MB 5.6 MB/s eta 0:00:00\n",
      "Installing collected packages: numpy\n",
      "Successfully installed numpy-1.24.1\n"
     ]
    }
   ],
   "source": [
    "pip install numpy"
   ]
  },
  {
   "cell_type": "markdown",
   "id": "d84a1d51",
   "metadata": {},
   "source": [
    "Anaconda Prompt 창에서\n",
    "\n",
    "conda install 패키지명"
   ]
  },
  {
   "cell_type": "code",
   "execution_count": 7,
   "id": "ad15baff",
   "metadata": {},
   "outputs": [],
   "source": [
    "import numpy as np"
   ]
  },
  {
   "cell_type": "code",
   "execution_count": 12,
   "id": "2cd79008",
   "metadata": {},
   "outputs": [],
   "source": [
    "a = [1,2,3]\n",
    "b = np.array(a)"
   ]
  },
  {
   "cell_type": "code",
   "execution_count": 13,
   "id": "c6033943",
   "metadata": {
    "scrolled": true
   },
   "outputs": [
    {
     "name": "stdout",
     "output_type": "stream",
     "text": [
      "<class 'list'>\n",
      "<class 'numpy.ndarray'>\n",
      "[1, 2, 3]\n",
      "[1 2 3]\n"
     ]
    }
   ],
   "source": [
    "print(type(a))\n",
    "print(type(b))\n",
    "print(a)\n",
    "print(b)"
   ]
  },
  {
   "cell_type": "code",
   "execution_count": 22,
   "id": "4b709554",
   "metadata": {},
   "outputs": [
    {
     "name": "stdout",
     "output_type": "stream",
     "text": [
      "array1 type: <class 'numpy.ndarray'>\n",
      "[1 2 3]\n",
      "[4 5 6]\n",
      "[5 7 9]\n",
      "(3,)\n"
     ]
    }
   ],
   "source": [
    "array1 = b.copy()\n",
    "array2 = np.array([4,5,6])\n",
    "print('array1 type:', type(array1))\n",
    "print(array1)\n",
    "print(array2)\n",
    "print(array1+array2)\n",
    "array1[1]\n",
    "print(array1.shape) # (,3)인데 튜플이라 ,가 뒤로 가서 (3,)"
   ]
  },
  {
   "cell_type": "code",
   "execution_count": 31,
   "id": "4cd9e38f",
   "metadata": {},
   "outputs": [
    {
     "name": "stdout",
     "output_type": "stream",
     "text": [
      "array2d의 type:  <class 'numpy.ndarray'>\n",
      "[[ 1  2  3]\n",
      " [11 22 33]]\n",
      "array2d의 형태:  (2, 3)\n",
      "array2d는 2차원\n",
      "array2d는 2차원\n"
     ]
    }
   ],
   "source": [
    "# 2차원 np리스트\n",
    "array2d = np.array([[1,2,3],[11,22,33]])\n",
    "print('array2d의 type: ', type(array2d))\n",
    "print(array2d)\n",
    "print('array2d의 형태: ', array2d.shape)\n",
    "print('array2d는 {0}차원'.format(array2d.ndim))\n",
    "print(f'array2d는 {array2d.ndim}차원')"
   ]
  },
  {
   "cell_type": "code",
   "execution_count": 36,
   "id": "78f25fda",
   "metadata": {},
   "outputs": [
    {
     "name": "stdout",
     "output_type": "stream",
     "text": [
      "array3d의 type:  <class 'numpy.ndarray'>\n",
      "[[[ 1  2  3]\n",
      "  [11 22 33]]]\n",
      "array3d의 형태:  (1, 2, 3)\n",
      "array3d는 3차원\n",
      "array3d는 3차원\n"
     ]
    }
   ],
   "source": [
    "# 3차원 np리스트\n",
    "array3d = np.array([[[1,2,3],[11,22,33]]]) # 1,2,3\n",
    "print('array3d의 type: ', type(array3d))\n",
    "print(array3d)\n",
    "print('array3d의 형태: ', array3d.shape)\n",
    "print('array3d는 {0}차원'.format(array3d.ndim))\n",
    "print(f'array3d는 {array3d.ndim}차원')"
   ]
  },
  {
   "cell_type": "code",
   "execution_count": 50,
   "id": "a38d5525",
   "metadata": {},
   "outputs": [
    {
     "name": "stdout",
     "output_type": "stream",
     "text": [
      "Help on function shape in module numpy:\n",
      "\n",
      "shape(a)\n",
      "    Return the shape of an array.\n",
      "    \n",
      "    Parameters\n",
      "    ----------\n",
      "    a : array_like\n",
      "        Input array.\n",
      "    \n",
      "    Returns\n",
      "    -------\n",
      "    shape : tuple of ints\n",
      "        The elements of the shape tuple give the lengths of the\n",
      "        corresponding array dimensions.\n",
      "    \n",
      "    See Also\n",
      "    --------\n",
      "    len : ``len(a)`` is equivalent to ``np.shape(a)[0]`` for N-D arrays with\n",
      "          ``N>=1``.\n",
      "    ndarray.shape : Equivalent array method.\n",
      "    \n",
      "    Examples\n",
      "    --------\n",
      "    >>> np.shape(np.eye(3))\n",
      "    (3, 3)\n",
      "    >>> np.shape([[1, 3]])\n",
      "    (1, 2)\n",
      "    >>> np.shape([0])\n",
      "    (1,)\n",
      "    >>> np.shape(0)\n",
      "    ()\n",
      "    \n",
      "    >>> a = np.array([(1, 2), (3, 4), (5, 6)],\n",
      "    ...              dtype=[('x', 'i4'), ('y', 'i4')])\n",
      "    >>> np.shape(a)\n",
      "    (3,)\n",
      "    >>> a.shape\n",
      "    (3,)\n",
      "\n"
     ]
    }
   ],
   "source": [
    "# ?를 활용한 함수 검색\n",
    "# ?np.array\n",
    "# ?np.ndim\n",
    "# ?np.shape\n",
    "# help를 통한 함수 검색\n",
    "# help(np.ndim)\n",
    "help(np.shape)"
   ]
  },
  {
   "cell_type": "code",
   "execution_count": 60,
   "id": "5e973140",
   "metadata": {},
   "outputs": [
    {
     "name": "stdout",
     "output_type": "stream",
     "text": [
      "array3d의 형태:  (1, 2, 3)\n",
      "array3d_1의 형태:  (1, 1, 3)\n",
      "array3d_2의 형태:  (2, 1, 3)\n",
      "array3d의 차원:  3\n",
      "array3d_1의 차원:  3\n",
      "array3d_2의 차원:  3\n"
     ]
    }
   ],
   "source": [
    "array3d = np.array([[[1,2,3],[11,22,33]]]) # 1,2,3\n",
    "array3d_1 = np.array([[[11,22,33]]]) # 1,1,3\n",
    "array3d_2 = np.array([[[11,22,33]],[[11,22,33]]]) # 2,1,3\n",
    "print('array3d의 형태: ', array3d.shape)\n",
    "print('array3d_1의 형태: ', array3d_1.shape)\n",
    "print('array3d_2의 형태: ', array3d_2.shape)\n",
    "print('array3d의 차원: ', array3d.ndim)\n",
    "print('array3d_1의 차원: ', array3d_1.ndim)\n",
    "print('array3d_2의 차원: ', array3d_2.ndim)\n",
    "#(1,2,3)-> (1,1,3)으로 바꿔보기\n",
    "#(1,2,3)-> (2,1,3)으로 바꿔보기"
   ]
  },
  {
   "cell_type": "code",
   "execution_count": 75,
   "id": "90f70129",
   "metadata": {},
   "outputs": [
    {
     "ename": "ValueError",
     "evalue": "setting an array element with a sequence. The requested array has an inhomogeneous shape after 1 dimensions. The detected shape was (2,) + inhomogeneous part.",
     "output_type": "error",
     "traceback": [
      "\u001b[1;31m---------------------------------------------------------------------------\u001b[0m",
      "\u001b[1;31mValueError\u001b[0m                                Traceback (most recent call last)",
      "Cell \u001b[1;32mIn[75], line 2\u001b[0m\n\u001b[0;32m      1\u001b[0m \u001b[38;5;66;03m# 또 다른 용례\u001b[39;00m\n\u001b[1;32m----> 2\u001b[0m arr_test \u001b[38;5;241m=\u001b[39m \u001b[43mnp\u001b[49m\u001b[38;5;241;43m.\u001b[39;49m\u001b[43marray\u001b[49m\u001b[43m(\u001b[49m\n\u001b[0;32m      3\u001b[0m \u001b[43m    \u001b[49m\u001b[43m[\u001b[49m\n\u001b[0;32m      4\u001b[0m \u001b[43m        \u001b[49m\u001b[43m[\u001b[49m\u001b[38;5;241;43m1\u001b[39;49m\u001b[43m,\u001b[49m\u001b[38;5;241;43m2\u001b[39;49m\u001b[43m,\u001b[49m\u001b[38;5;241;43m3\u001b[39;49m\u001b[43m]\u001b[49m\u001b[43m,\u001b[49m\n\u001b[0;32m      5\u001b[0m \u001b[43m        \u001b[49m\u001b[43m[\u001b[49m\u001b[38;5;241;43m11\u001b[39;49m\u001b[43m,\u001b[49m\u001b[38;5;241;43m22\u001b[39;49m\u001b[43m,\u001b[49m\u001b[38;5;241;43m33\u001b[39;49m\u001b[43m,\u001b[49m\u001b[38;5;241;43m44\u001b[39;49m\u001b[43m]\u001b[49m\n\u001b[0;32m      6\u001b[0m \u001b[43m    \u001b[49m\u001b[43m]\u001b[49m\u001b[43m)\u001b[49m\n\u001b[0;32m      7\u001b[0m \u001b[38;5;28mprint\u001b[39m(arr_test\u001b[38;5;241m.\u001b[39mshape) \u001b[38;5;66;03m#(2,) -->1차원으로 인식함\u001b[39;00m\n",
      "\u001b[1;31mValueError\u001b[0m: setting an array element with a sequence. The requested array has an inhomogeneous shape after 1 dimensions. The detected shape was (2,) + inhomogeneous part."
     ]
    }
   ],
   "source": [
    "# 또 다른 용례\n",
    "arr_test = np.array(\n",
    "    [\n",
    "        [1,2,3],\n",
    "        [11,22,33,44]\n",
    "    ])\n",
    "print(arr_test.shape) #(2,) -->1차원으로 인식함"
   ]
  },
  {
   "cell_type": "markdown",
   "id": "5038bce3",
   "metadata": {},
   "source": [
    "## ndarray 편리하게 생성 - arrange, zeros, ones"
   ]
  },
  {
   "cell_type": "markdown",
   "id": "a6b1238b",
   "metadata": {},
   "source": [
    "### 1) arrange\n",
    "시작값과 끝값을 지정해서 순차적인 배열 만들기"
   ]
  },
  {
   "cell_type": "code",
   "execution_count": 66,
   "id": "24e13b15",
   "metadata": {},
   "outputs": [
    {
     "data": {
      "text/plain": [
       "array([1, 2, 3, 4, 5])"
      ]
     },
     "execution_count": 66,
     "metadata": {},
     "output_type": "execute_result"
    }
   ],
   "source": [
    "a1 = np.array([1,2,3,4,5])\n",
    "a1"
   ]
  },
  {
   "cell_type": "code",
   "execution_count": 68,
   "id": "0da6f36f",
   "metadata": {},
   "outputs": [],
   "source": [
    "?np.arange"
   ]
  },
  {
   "cell_type": "code",
   "execution_count": 70,
   "id": "2d7ac11d",
   "metadata": {},
   "outputs": [
    {
     "data": {
      "text/plain": [
       "array([1, 2, 3, 4, 5])"
      ]
     },
     "execution_count": 70,
     "metadata": {},
     "output_type": "execute_result"
    }
   ],
   "source": [
    "np.arange(start=1, stop=6)"
   ]
  },
  {
   "cell_type": "code",
   "execution_count": 71,
   "id": "c355241d",
   "metadata": {},
   "outputs": [
    {
     "data": {
      "text/plain": [
       "array([1, 2, 3, 4, 5])"
      ]
     },
     "execution_count": 71,
     "metadata": {},
     "output_type": "execute_result"
    }
   ],
   "source": [
    "np.arange(1, 6)"
   ]
  },
  {
   "cell_type": "markdown",
   "id": "f9d94819",
   "metadata": {},
   "source": [
    "### 2)zeros\n",
    "데이터 형태를 지정해서 만들 경우 0으로 우선 값을 채워두기 때문에"
   ]
  },
  {
   "cell_type": "code",
   "execution_count": 74,
   "id": "0c7bdd6e",
   "metadata": {
    "scrolled": true
   },
   "outputs": [
    {
     "data": {
      "text/plain": [
       "array([[0, 0],\n",
       "       [0, 0],\n",
       "       [0, 0]])"
      ]
     },
     "execution_count": 74,
     "metadata": {},
     "output_type": "execute_result"
    }
   ],
   "source": [
    "np.zeros((3,2), dtype='int32')"
   ]
  },
  {
   "cell_type": "code",
   "execution_count": 83,
   "id": "6f23e44a",
   "metadata": {},
   "outputs": [
    {
     "name": "stdout",
     "output_type": "stream",
     "text": [
      "[[0 0 0 0]\n",
      " [0 0 0 0]] int32 (2, 4)\n"
     ]
    }
   ],
   "source": [
    "zero_array = np.zeros((2,4), dtype='int32')\n",
    "print(zero_array, zero_array.dtype, zero_array.shape)"
   ]
  },
  {
   "cell_type": "markdown",
   "id": "46b022fe",
   "metadata": {},
   "source": [
    "### 3)ones"
   ]
  },
  {
   "cell_type": "code",
   "execution_count": 84,
   "id": "16b52922",
   "metadata": {
    "scrolled": true
   },
   "outputs": [
    {
     "name": "stdout",
     "output_type": "stream",
     "text": [
      "[[1. 1.]\n",
      " [1. 1.]\n",
      " [1. 1.]]\n",
      "float64 (3, 2)\n"
     ]
    }
   ],
   "source": [
    "# ones로 1로 된 행렬을 생성\n",
    "one_array = np.ones((3,2), dtype='float64')\n",
    "print(one_array)\n",
    "print(one_array.dtype, one_array.shape)"
   ]
  },
  {
   "cell_type": "code",
   "execution_count": 85,
   "id": "236fbd0a",
   "metadata": {
    "scrolled": true
   },
   "outputs": [
    {
     "data": {
      "text/plain": [
       "numpy.ndarray"
      ]
     },
     "execution_count": 85,
     "metadata": {},
     "output_type": "execute_result"
    }
   ],
   "source": [
    "type(one_array)"
   ]
  },
  {
   "cell_type": "code",
   "execution_count": 90,
   "id": "3ac520c6",
   "metadata": {},
   "outputs": [
    {
     "name": "stdout",
     "output_type": "stream",
     "text": [
      "[ 1  2  3  4  5  6  7  8  9 10]\n",
      "[[ 1  2  3  4  5]\n",
      " [ 6  7  8  9 10]]\n"
     ]
    }
   ],
   "source": [
    "arr_test = np.arange(start=1, stop=11)\n",
    "print(arr_test)\n",
    "arr_test.reshape(2,5)\n",
    "print(arr_test.reshape(2,5))"
   ]
  },
  {
   "cell_type": "markdown",
   "id": "84481113",
   "metadata": {},
   "source": [
    "## reshape의 용례"
   ]
  },
  {
   "cell_type": "code",
   "execution_count": 91,
   "id": "54b7639d",
   "metadata": {},
   "outputs": [
    {
     "data": {
      "text/plain": [
       "array([[ 1,  2,  3,  4,  5],\n",
       "       [ 6,  7,  8,  9, 10]])"
      ]
     },
     "execution_count": 91,
     "metadata": {},
     "output_type": "execute_result"
    }
   ],
   "source": [
    "seq_array = np.arange(start=1, stop=11)\n",
    "seq_array.reshape(2,5)"
   ]
  },
  {
   "cell_type": "markdown",
   "id": "abdbccd0",
   "metadata": {},
   "source": [
    "## numpy의 dtype\n",
    "**numpy는 서로 다른 종류의 데이터가 못 온다!** \n",
    "Numpy의 데이터 타입은 다 같은 타입으로 구성된다."
   ]
  },
  {
   "cell_type": "code",
   "execution_count": 93,
   "id": "9592d284",
   "metadata": {},
   "outputs": [
    {
     "data": {
      "text/plain": [
       "array(['1', '2', 'test'], dtype='<U11')"
      ]
     },
     "execution_count": 93,
     "metadata": {},
     "output_type": "execute_result"
    }
   ],
   "source": [
    "l2 = [1,2,'test']  # int와 str\n",
    "# np.array를 활용하여 ndarray로 변환\n",
    "np.array(l2)  # unicode11 문자를 의미"
   ]
  },
  {
   "cell_type": "code",
   "execution_count": 95,
   "id": "0bc3c41c",
   "metadata": {},
   "outputs": [
    {
     "name": "stdout",
     "output_type": "stream",
     "text": [
      "[1.  2.  5.5] float64\n"
     ]
    }
   ],
   "source": [
    "array_l2 = np.array(l2)\n",
    "l3 = [1, 2, 5.5]  #int와 float\n",
    "array_l3 = np.array(l3)\n",
    "print(array_l3, array_l3.dtype) \n",
    "# numpy는 서로 다른 종류의 데이터가 못 온다."
   ]
  },
  {
   "cell_type": "code",
   "execution_count": 99,
   "id": "c425f727",
   "metadata": {},
   "outputs": [
    {
     "data": {
      "text/plain": [
       "array([1, 2, 3])"
      ]
     },
     "execution_count": 99,
     "metadata": {},
     "output_type": "execute_result"
    }
   ],
   "source": [
    "# dtype의 상호 변환\n",
    "array_int = np.array([1,3,5])\n",
    "array_float = array_int.astype('float64')  # 형변환\n",
    "\n",
    "# array_float -> array_int2\n",
    "array_int2 = array_float.astype('int32')\n",
    "\n",
    "# 자료에 따른 버림 현상\n",
    "array_float2 = np.array([1.1, 2.2, 3.6])\n",
    "array_float2.astype('int32')"
   ]
  }
 ],
 "metadata": {
  "kernelspec": {
   "display_name": "Python 3 (ipykernel)",
   "language": "python",
   "name": "python3"
  },
  "language_info": {
   "codemirror_mode": {
    "name": "ipython",
    "version": 3
   },
   "file_extension": ".py",
   "mimetype": "text/x-python",
   "name": "python",
   "nbconvert_exporter": "python",
   "pygments_lexer": "ipython3",
   "version": "3.10.9"
  }
 },
 "nbformat": 4,
 "nbformat_minor": 5
}
